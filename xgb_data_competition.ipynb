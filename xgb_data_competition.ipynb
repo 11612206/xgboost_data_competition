{
 "cells": [
  {
   "cell_type": "markdown",
   "metadata": {},
   "source": [
    "Mini Data Competition\n",
    "Imputation methods include single imputation (by mean), listwise deletion, KNN and MICE. \n",
    "Feature selection is carried out by univariate selection. \n",
    "The classification algorithm adopted is KNN. \n",
    "According to the instruction, I choose not to scale the data.\n",
    "Grid search is conducted for hyperparametre tuning.\n",
    "In the result, there are some values are 0 or 1, but they are truly the probability of Y=1."
   ]
  },
  {
   "cell_type": "code",
   "execution_count": 53,
   "metadata": {},
   "outputs": [],
   "source": [
    "# import data\n",
    "q3df_test=pd.read_csv(r\"C:\\Users\\I544708\\Desktop\\hands on\\A1\\Q3_test.csv\")\n",
    "q3df_train=pd.read_csv(r\"C:\\Users\\I544708\\Desktop\\hands on\\A1\\Q3_train.csv\")"
   ]
  },
  {
   "cell_type": "code",
   "execution_count": 54,
   "metadata": {},
   "outputs": [
    {
     "name": "stdout",
     "output_type": "stream",
     "text": [
      "[[0 'X1']\n",
      " [0 'X2']\n",
      " [0 'X3']\n",
      " ...\n",
      " [9999 'X3']\n",
      " [9999 'X5']\n",
      " [9999 'X8']]\n"
     ]
    }
   ],
   "source": [
    "# the purpose of running this block is to find the indices of missing data, to facilitate further filling nans\n",
    "idx_q3, idy_q3 = np.where(pd.isnull(q3df_train))\n",
    "nan_index_result_q3 = np.column_stack([q3df_train.index[idx_q3], q3df_train.columns[idy_q3]])\n",
    "print(nan_index_result_q3)"
   ]
  },
  {
   "cell_type": "code",
   "execution_count": 57,
   "metadata": {
    "collapsed": true
   },
   "outputs": [],
   "source": [
    "# listwise deletion: delete rows where Y is null\n",
    "q3df_train_dn1=q3df_train.dropna(subset=['Y'])"
   ]
  },
  {
   "cell_type": "code",
   "execution_count": 59,
   "metadata": {
    "collapsed": true
   },
   "outputs": [],
   "source": [
    "# define function to remove outliers by IQR method\n",
    "def remove_outlier_IQR(df):\n",
    "    Q1=df.quantile(0.25)\n",
    "    Q3=df.quantile(0.75)\n",
    "    IQR=Q3-Q1\n",
    "    df_final=df[~((df<(Q1-1.5*IQR)) | (df>(Q3+1.5*IQR)))]\n",
    "    return df_final"
   ]
  },
  {
   "cell_type": "code",
   "execution_count": 60,
   "metadata": {
    "collapsed": true
   },
   "outputs": [],
   "source": [
    "# select continuous variables to do IQR outlier removal\n",
    "q3df_train_dn1_cont=q3df_train_dn1[[\"X3\",\"X4\",\"X5\",\"X6\",\"X7\",\"X8\",\"X9\",\"X10\",\"X11\",\"X12\",\"X13\",\"X14\",\"X15\",\"X16\",\"X17\",\"X18\",\"X19\"]]"
   ]
  },
  {
   "cell_type": "code",
   "execution_count": 72,
   "metadata": {
    "collapsed": true
   },
   "outputs": [],
   "source": [
    "q3df_train_remout=remove_outlier_IQR(q3df_train_dn1_cont) # IQR outliers removal"
   ]
  },
  {
   "cell_type": "code",
   "execution_count": 73,
   "metadata": {},
   "outputs": [
    {
     "data": {
      "image/png": "[encoded data removed]",
      "text/plain": [
       "<Figure size 432x288 with 1 Axes>"
      ]
     },
     "metadata": {},
     "output_type": "display_data"
    }
   ],
   "source": [
    "# check out the effectiveness of outlier removal\n",
    "import seaborn as sns\n",
    "import matplotlib.pyplot as plt\n",
    "\n",
    "plt.clf()\n",
    "ax = sns.boxplot(data=q3df_train_dn1_cont, orient=\"h\", palette=\"Set2\")\n",
    "plt.show()"
   ]
  },
  {
   "cell_type": "code",
   "execution_count": 74,
   "metadata": {},
   "outputs": [
    {
     "data": {
      "image/png": "[encoded data removed]",
      "text/plain": [
       "<Figure size 432x288 with 1 Axes>"
      ]
     },
     "metadata": {},
     "output_type": "display_data"
    }
   ],
   "source": [
    "plt.clf()\n",
    "ax = sns.boxplot(data=q3df_train_remout, orient=\"h\", palette=\"Set2\")\n",
    "plt.show()"
   ]
  },
  {
   "cell_type": "markdown",
   "metadata": {},
   "source": [
    "It is obvious to see that after IQR method, extremely values have been removed."
   ]
  },
  {
   "cell_type": "code",
   "execution_count": 81,
   "metadata": {
    "collapsed": true
   },
   "outputs": [],
   "source": [
    "# imputate continuous variables by mean\n",
    "\n",
    "from sklearn.impute import SimpleImputer\n",
    "singimp_mean = SimpleImputer(missing_values=np.nan, strategy='mean')\n",
    "q3ary_train_contimp=singimp_mean.fit_transform(q3df_train_remout)"
   ]
  },
  {
   "cell_type": "code",
   "execution_count": 82,
   "metadata": {},
   "outputs": [],
   "source": [
    "q3df_train_contimp=pd.DataFrame(q3ary_train_contimp) # convert from array to dataframe\n",
    "q3df_train_contimp.columns=[\"X3\",\"X4\",\"X5\",\"X6\",\"X7\",\"X8\",\"X9\",\"X10\",\"X11\",\"X12\",\"X13\",\"X14\",\"X15\",\"X16\",\"X17\",\"X18\",\"X19\"]"
   ]
  },
  {
   "cell_type": "code",
   "execution_count": 137,
   "metadata": {
    "collapsed": true
   },
   "outputs": [],
   "source": [
    "# deal with X0 categorical variable using KNN Imputation\n",
    "\n",
    "from sklearn.impute import KNNImputer\n",
    "\n",
    "q3df_train_dn1.reset_index(drop=True, inplace=True)\n",
    "q3df_train_contimp.reset_index(drop=True, inplace=True)\n",
    "q3df_train_knnimp=pd.concat([q3df_train_dn1[\"X0\"],q3df_train_contimp],axis=1)\n",
    "\n",
    "imputer_knn = KNNImputer(n_neighbors=5)\n",
    "q3df_train_X0imp=pd.DataFrame(np.round_(imputer_knn.fit_transform(q3df_train_knnimp)[:,0]),columns=[\"X0\"])"
   ]
  },
  {
   "cell_type": "code",
   "execution_count": 139,
   "metadata": {},
   "outputs": [],
   "source": [
    "# deal with X1, X2 integer variable using MICE Imputation\n",
    "\n",
    "q3df_train_dn1.reset_index(drop=True, inplace=True)\n",
    "q3df_train_contimp.reset_index(drop=True, inplace=True)\n",
    "\n",
    "q3df_train_miceimp=pd.concat([q3df_train_dn1[[\"X1\",\"X2\"]],q3df_train_contimp],axis=1)\n",
    "kernel=MICEData(q3df_train_miceimp,k_pmm=3)\n",
    "kernel.update_all(5)\n",
    "q3df_train_X12imp=kernel.data[[\"X1\",'X2']]"
   ]
  },
  {
   "cell_type": "code",
   "execution_count": 141,
   "metadata": {},
   "outputs": [],
   "source": [
    "q3df_train_imped=pd.concat([q3df_train_X0imp,q3df_train_X12imp,q3df_train_contimp],axis=1) # final imputed dataset"
   ]
  },
  {
   "cell_type": "code",
   "execution_count": 147,
   "metadata": {
    "collapsed": true
   },
   "outputs": [],
   "source": [
    "dummies=pd.get_dummies(q3df_train_imped[\"X0\"], drop_first=False) # encode X0 categorical variable\n",
    "dummies.columns=[\"X0=0\",'X0=1','X0=2']"
   ]
  },
  {
   "cell_type": "code",
   "execution_count": 157,
   "metadata": {},
   "outputs": [],
   "source": [
    "q3df_train_imped.reset_index(drop=True, inplace=True)\n",
    "dummies.reset_index(drop=True, inplace=True)\n",
    "\n",
    "# separate X and Y\n",
    "X_input=pd.concat([q3df_train_imped[[\"X1\",\"X2\",\"X3\",\"X4\",\"X5\",\"X6\",\"X7\",\"X8\",\"X9\",\"X10\",\"X11\",\"X12\",\"X13\",\"X14\",\"X15\",\"X16\",\"X17\",\"X18\",\"X19\"]],dummies],axis=1)\n",
    "y_input=q3df_train_dn1[\"Y\"]"
   ]
  },
  {
   "cell_type": "code",
   "execution_count": 161,
   "metadata": {
    "collapsed": true
   },
   "outputs": [],
   "source": [
    "from sklearn.feature_selection import SelectKBest\n",
    "from sklearn.feature_selection import f_classif\n",
    "from sklearn.neighbors import KNeighborsClassifier\n",
    "\n",
    "# using univariate selection method to carry out feature selection, construct the FS function\n",
    "def feature_selection_q3(i,X,y):\n",
    "    kfs=SelectKBest(f_classif, k=i)\n",
    "    X_selected = pd.DataFrame(kfs.fit_transform(X, y))\n",
    "    X_selected_indica=kfs.get_support(indices=False)\n",
    "    return  X_selected,X_selected_indica"
   ]
  },
  {
   "cell_type": "code",
   "execution_count": 166,
   "metadata": {
    "scrolled": false
   },
   "outputs": [
    {
     "name": "stdout",
     "output_type": "stream",
     "text": [
      "Fitting 5 folds for each of 18 candidates, totalling 90 fits\n",
      "GridSearchCV(cv=<generator object _BaseKFold.split at 0x0000012C56A17F68>,\n",
      "             estimator=KNeighborsClassifier(), n_jobs=4,\n",
      "             param_grid={'algorithm': ['auto', 'ball_tree', 'kd_tree'],\n",
      "                         'n_neighbors': [3, 5, 7],\n",
      "                         'weights': ['uniform', 'distance']},\n",
      "             scoring='roc_auc', verbose=3)\n",
      "\n",
      " Time taken: 0 hours 1 minutes and 7.86 seconds.\n",
      "Best estimator when 5 features are selected: \n",
      "KNeighborsClassifier(n_neighbors=7, weights='distance')\n",
      "\n",
      " The AUC of the best estimator for 5-fold search, where each iteration with 18 hyperparameter combinations:\n",
      "0.9517227341952925\n",
      "\n",
      " Best hyperparameters:\n",
      "{'algorithm': 'auto', 'n_neighbors': 7, 'weights': 'distance'}\n",
      "Fitting 5 folds for each of 18 candidates, totalling 90 fits\n",
      "GridSearchCV(cv=<generator object _BaseKFold.split at 0x0000012C56A11048>,\n",
      "             estimator=KNeighborsClassifier(), n_jobs=4,\n",
      "             param_grid={'algorithm': ['auto', 'ball_tree', 'kd_tree'],\n",
      "                         'n_neighbors': [3, 5, 7],\n",
      "                         'weights': ['uniform', 'distance']},\n",
      "             scoring='roc_auc', verbose=3)\n",
      "\n",
      " Time taken: 0 hours 0 minutes and 4.72 seconds.\n",
      "Best estimator when 6 features are selected: \n",
      "KNeighborsClassifier(n_neighbors=7, weights='distance')\n",
      "\n",
      " The AUC of the best estimator for 5-fold search, where each iteration with 18 hyperparameter combinations:\n",
      "0.9754730231054974\n",
      "\n",
      " Best hyperparameters:\n",
      "{'algorithm': 'auto', 'n_neighbors': 7, 'weights': 'distance'}\n",
      "Fitting 5 folds for each of 18 candidates, totalling 90 fits\n",
      "GridSearchCV(cv=<generator object _BaseKFold.split at 0x0000012C56A11938>,\n",
      "             estimator=KNeighborsClassifier(), n_jobs=4,\n",
      "             param_grid={'algorithm': ['auto', 'ball_tree', 'kd_tree'],\n",
      "                         'n_neighbors': [3, 5, 7],\n",
      "                         'weights': ['uniform', 'distance']},\n",
      "             scoring='roc_auc', verbose=3)\n",
      "\n",
      " Time taken: 0 hours 0 minutes and 4.98 seconds.\n",
      "Best estimator when 7 features are selected: \n",
      "KNeighborsClassifier(n_neighbors=7, weights='distance')\n",
      "\n",
      " The AUC of the best estimator for 5-fold search, where each iteration with 18 hyperparameter combinations:\n",
      "0.9741131568164647\n",
      "\n",
      " Best hyperparameters:\n",
      "{'algorithm': 'auto', 'n_neighbors': 7, 'weights': 'distance'}\n",
      "Fitting 5 folds for each of 18 candidates, totalling 90 fits\n",
      "GridSearchCV(cv=<generator object _BaseKFold.split at 0x0000012C56A11048>,\n",
      "             estimator=KNeighborsClassifier(), n_jobs=4,\n",
      "             param_grid={'algorithm': ['auto', 'ball_tree', 'kd_tree'],\n",
      "                         'n_neighbors': [3, 5, 7],\n",
      "                         'weights': ['uniform', 'distance']},\n",
      "             scoring='roc_auc', verbose=3)\n",
      "\n",
      " Time taken: 0 hours 0 minutes and 6.0 seconds.\n",
      "Best estimator when 8 features are selected: \n",
      "KNeighborsClassifier(n_neighbors=7, weights='distance')\n",
      "\n",
      " The AUC of the best estimator for 5-fold search, where each iteration with 18 hyperparameter combinations:\n",
      "0.9744854716533947\n",
      "\n",
      " Best hyperparameters:\n",
      "{'algorithm': 'auto', 'n_neighbors': 7, 'weights': 'distance'}\n",
      "Fitting 5 folds for each of 18 candidates, totalling 90 fits\n",
      "GridSearchCV(cv=<generator object _BaseKFold.split at 0x0000012C56A11938>,\n",
      "             estimator=KNeighborsClassifier(), n_jobs=4,\n",
      "             param_grid={'algorithm': ['auto', 'ball_tree', 'kd_tree'],\n",
      "                         'n_neighbors': [3, 5, 7],\n",
      "                         'weights': ['uniform', 'distance']},\n",
      "             scoring='roc_auc', verbose=3)\n",
      "\n",
      " Time taken: 0 hours 0 minutes and 6.31 seconds.\n",
      "Best estimator when 9 features are selected: \n",
      "KNeighborsClassifier(n_neighbors=7, weights='distance')\n",
      "\n",
      " The AUC of the best estimator for 5-fold search, where each iteration with 18 hyperparameter combinations:\n",
      "0.9744820107562717\n",
      "\n",
      " Best hyperparameters:\n",
      "{'algorithm': 'auto', 'n_neighbors': 7, 'weights': 'distance'}\n",
      "Fitting 5 folds for each of 18 candidates, totalling 90 fits\n",
      "GridSearchCV(cv=<generator object _BaseKFold.split at 0x0000012C56A11048>,\n",
      "             estimator=KNeighborsClassifier(), n_jobs=4,\n",
      "             param_grid={'algorithm': ['auto', 'ball_tree', 'kd_tree'],\n",
      "                         'n_neighbors': [3, 5, 7],\n",
      "                         'weights': ['uniform', 'distance']},\n",
      "             scoring='roc_auc', verbose=3)\n",
      "\n",
      " Time taken: 0 hours 0 minutes and 8.81 seconds.\n",
      "Best estimator when 10 features are selected: \n",
      "KNeighborsClassifier(n_neighbors=7, weights='distance')\n",
      "\n",
      " The AUC of the best estimator for 5-fold search, where each iteration with 18 hyperparameter combinations:\n",
      "0.9683317659092523\n",
      "\n",
      " Best hyperparameters:\n",
      "{'algorithm': 'auto', 'n_neighbors': 7, 'weights': 'distance'}\n",
      "Fitting 5 folds for each of 18 candidates, totalling 90 fits\n",
      "GridSearchCV(cv=<generator object _BaseKFold.split at 0x0000012C56A11938>,\n",
      "             estimator=KNeighborsClassifier(), n_jobs=4,\n",
      "             param_grid={'algorithm': ['auto', 'ball_tree', 'kd_tree'],\n",
      "                         'n_neighbors': [3, 5, 7],\n",
      "                         'weights': ['uniform', 'distance']},\n",
      "             scoring='roc_auc', verbose=3)\n",
      "\n",
      " Time taken: 0 hours 0 minutes and 9.11 seconds.\n",
      "Best estimator when 11 features are selected: \n",
      "KNeighborsClassifier(n_neighbors=7, weights='distance')\n",
      "\n",
      " The AUC of the best estimator for 5-fold search, where each iteration with 18 hyperparameter combinations:\n",
      "0.9658066902764393\n",
      "\n",
      " Best hyperparameters:\n",
      "{'algorithm': 'auto', 'n_neighbors': 7, 'weights': 'distance'}\n",
      "Fitting 5 folds for each of 18 candidates, totalling 90 fits\n",
      "GridSearchCV(cv=<generator object _BaseKFold.split at 0x0000012C45C2A5C8>,\n",
      "             estimator=KNeighborsClassifier(), n_jobs=4,\n",
      "             param_grid={'algorithm': ['auto', 'ball_tree', 'kd_tree'],\n",
      "                         'n_neighbors': [3, 5, 7],\n",
      "                         'weights': ['uniform', 'distance']},\n",
      "             scoring='roc_auc', verbose=3)\n",
      "\n",
      " Time taken: 0 hours 0 minutes and 9.53 seconds.\n",
      "Best estimator when 12 features are selected: \n",
      "KNeighborsClassifier(n_neighbors=7, weights='distance')\n",
      "\n",
      " The AUC of the best estimator for 5-fold search, where each iteration with 18 hyperparameter combinations:\n",
      "0.963144398152241\n",
      "\n",
      " Best hyperparameters:\n",
      "{'algorithm': 'auto', 'n_neighbors': 7, 'weights': 'distance'}\n",
      "Fitting 5 folds for each of 18 candidates, totalling 90 fits\n",
      "GridSearchCV(cv=<generator object _BaseKFold.split at 0x0000012C45C2A6D0>,\n",
      "             estimator=KNeighborsClassifier(), n_jobs=4,\n",
      "             param_grid={'algorithm': ['auto', 'ball_tree', 'kd_tree'],\n",
      "                         'n_neighbors': [3, 5, 7],\n",
      "                         'weights': ['uniform', 'distance']},\n",
      "             scoring='roc_auc', verbose=3)\n",
      "\n",
      " Time taken: 0 hours 0 minutes and 11.78 seconds.\n",
      "Best estimator when 13 features are selected: \n",
      "KNeighborsClassifier(n_neighbors=7, weights='distance')\n",
      "\n",
      " The AUC of the best estimator for 5-fold search, where each iteration with 18 hyperparameter combinations:\n",
      "0.9600314594700045\n",
      "\n",
      " Best hyperparameters:\n",
      "{'algorithm': 'auto', 'n_neighbors': 7, 'weights': 'distance'}\n",
      "Fitting 5 folds for each of 18 candidates, totalling 90 fits\n",
      "GridSearchCV(cv=<generator object _BaseKFold.split at 0x0000012C45C2A780>,\n",
      "             estimator=KNeighborsClassifier(), n_jobs=4,\n",
      "             param_grid={'algorithm': ['auto', 'ball_tree', 'kd_tree'],\n",
      "                         'n_neighbors': [3, 5, 7],\n",
      "                         'weights': ['uniform', 'distance']},\n",
      "             scoring='roc_auc', verbose=3)\n",
      "\n",
      " Time taken: 0 hours 0 minutes and 11.47 seconds.\n",
      "Best estimator when 14 features are selected: \n",
      "KNeighborsClassifier(n_neighbors=7, weights='distance')\n",
      "\n",
      " The AUC of the best estimator for 5-fold search, where each iteration with 18 hyperparameter combinations:\n",
      "0.9595663756341717\n",
      "\n",
      " Best hyperparameters:\n",
      "{'algorithm': 'auto', 'n_neighbors': 7, 'weights': 'distance'}\n",
      "Fitting 5 folds for each of 18 candidates, totalling 90 fits\n",
      "GridSearchCV(cv=<generator object _BaseKFold.split at 0x0000012C45C2A7D8>,\n",
      "             estimator=KNeighborsClassifier(), n_jobs=4,\n",
      "             param_grid={'algorithm': ['auto', 'ball_tree', 'kd_tree'],\n",
      "                         'n_neighbors': [3, 5, 7],\n",
      "                         'weights': ['uniform', 'distance']},\n",
      "             scoring='roc_auc', verbose=3)\n",
      "\n",
      " Time taken: 0 hours 0 minutes and 13.57 seconds.\n",
      "Best estimator when 15 features are selected: \n",
      "KNeighborsClassifier(n_neighbors=7, weights='distance')\n",
      "\n",
      " The AUC of the best estimator for 5-fold search, where each iteration with 18 hyperparameter combinations:\n",
      "0.9590836081511785\n",
      "\n",
      " Best hyperparameters:\n",
      "{'algorithm': 'auto', 'n_neighbors': 7, 'weights': 'distance'}\n",
      "Fitting 5 folds for each of 18 candidates, totalling 90 fits\n",
      "GridSearchCV(cv=<generator object _BaseKFold.split at 0x0000012C45C2A8E0>,\n",
      "             estimator=KNeighborsClassifier(), n_jobs=4,\n",
      "             param_grid={'algorithm': ['auto', 'ball_tree', 'kd_tree'],\n",
      "                         'n_neighbors': [3, 5, 7],\n",
      "                         'weights': ['uniform', 'distance']},\n",
      "             scoring='roc_auc', verbose=3)\n",
      "\n",
      " Time taken: 0 hours 0 minutes and 15.77 seconds.\n",
      "Best estimator when 16 features are selected: \n",
      "KNeighborsClassifier(n_neighbors=7, weights='distance')\n",
      "\n",
      " The AUC of the best estimator for 5-fold search, where each iteration with 18 hyperparameter combinations:\n",
      "0.9590092121287697\n",
      "\n",
      " Best hyperparameters:\n",
      "{'algorithm': 'auto', 'n_neighbors': 7, 'weights': 'distance'}\n",
      "Fitting 5 folds for each of 18 candidates, totalling 90 fits\n",
      "GridSearchCV(cv=<generator object _BaseKFold.split at 0x0000012C45C2A990>,\n",
      "             estimator=KNeighborsClassifier(), n_jobs=4,\n",
      "             param_grid={'algorithm': ['auto', 'ball_tree', 'kd_tree'],\n",
      "                         'n_neighbors': [3, 5, 7],\n",
      "                         'weights': ['uniform', 'distance']},\n",
      "             scoring='roc_auc', verbose=3)\n",
      "\n",
      " Time taken: 0 hours 0 minutes and 19.41 seconds.\n",
      "Best estimator when 17 features are selected: \n",
      "KNeighborsClassifier(n_neighbors=7, weights='distance')\n",
      "\n",
      " The AUC of the best estimator for 5-fold search, where each iteration with 18 hyperparameter combinations:\n",
      "0.9561066010484478\n",
      "\n",
      " Best hyperparameters:\n",
      "{'algorithm': 'auto', 'n_neighbors': 7, 'weights': 'distance'}\n",
      "Fitting 5 folds for each of 18 candidates, totalling 90 fits\n",
      "GridSearchCV(cv=<generator object _BaseKFold.split at 0x0000012C45C2AA40>,\n",
      "             estimator=KNeighborsClassifier(), n_jobs=4,\n",
      "             param_grid={'algorithm': ['auto', 'ball_tree', 'kd_tree'],\n",
      "                         'n_neighbors': [3, 5, 7],\n",
      "                         'weights': ['uniform', 'distance']},\n",
      "             scoring='roc_auc', verbose=3)\n",
      "\n",
      " Time taken: 0 hours 0 minutes and 22.17 seconds.\n",
      "Best estimator when 18 features are selected: \n",
      "KNeighborsClassifier(n_neighbors=7, weights='distance')\n",
      "\n",
      " The AUC of the best estimator for 5-fold search, where each iteration with 18 hyperparameter combinations:\n",
      "0.9537382309008058\n",
      "\n",
      " Best hyperparameters:\n",
      "{'algorithm': 'auto', 'n_neighbors': 7, 'weights': 'distance'}\n",
      "Fitting 5 folds for each of 18 candidates, totalling 90 fits\n",
      "GridSearchCV(cv=<generator object _BaseKFold.split at 0x0000012C45C2AA98>,\n",
      "             estimator=KNeighborsClassifier(), n_jobs=4,\n",
      "             param_grid={'algorithm': ['auto', 'ball_tree', 'kd_tree'],\n",
      "                         'n_neighbors': [3, 5, 7],\n",
      "                         'weights': ['uniform', 'distance']},\n",
      "             scoring='roc_auc', verbose=3)\n",
      "\n",
      " Time taken: 0 hours 0 minutes and 22.97 seconds.\n",
      "Best estimator when 19 features are selected: \n",
      "KNeighborsClassifier(n_neighbors=7, weights='distance')\n",
      "\n",
      " The AUC of the best estimator for 5-fold search, where each iteration with 18 hyperparameter combinations:\n",
      "0.9497326992247365\n",
      "\n",
      " Best hyperparameters:\n",
      "{'algorithm': 'auto', 'n_neighbors': 7, 'weights': 'distance'}\n",
      "Fitting 5 folds for each of 18 candidates, totalling 90 fits\n",
      "GridSearchCV(cv=<generator object _BaseKFold.split at 0x0000012C45C2A938>,\n",
      "             estimator=KNeighborsClassifier(), n_jobs=4,\n",
      "             param_grid={'algorithm': ['auto', 'ball_tree', 'kd_tree'],\n",
      "                         'n_neighbors': [3, 5, 7],\n",
      "                         'weights': ['uniform', 'distance']},\n",
      "             scoring='roc_auc', verbose=3)\n",
      "\n",
      " Time taken: 0 hours 0 minutes and 23.86 seconds.\n",
      "Best estimator when 20 features are selected: \n",
      "KNeighborsClassifier(n_neighbors=7, weights='distance')\n",
      "\n",
      " The AUC of the best estimator for 5-fold search, where each iteration with 18 hyperparameter combinations:\n",
      "0.9465802870131558\n",
      "\n",
      " Best hyperparameters:\n",
      "{'algorithm': 'auto', 'n_neighbors': 7, 'weights': 'distance'}\n",
      "Fitting 5 folds for each of 18 candidates, totalling 90 fits\n",
      "GridSearchCV(cv=<generator object _BaseKFold.split at 0x0000012C45C2AB48>,\n",
      "             estimator=KNeighborsClassifier(), n_jobs=4,\n",
      "             param_grid={'algorithm': ['auto', 'ball_tree', 'kd_tree'],\n",
      "                         'n_neighbors': [3, 5, 7],\n",
      "                         'weights': ['uniform', 'distance']},\n",
      "             scoring='roc_auc', verbose=3)\n",
      "\n",
      " Time taken: 0 hours 0 minutes and 27.49 seconds.\n",
      "Best estimator when 21 features are selected: \n",
      "KNeighborsClassifier(n_neighbors=7, weights='distance')\n",
      "\n",
      " The AUC of the best estimator for 5-fold search, where each iteration with 18 hyperparameter combinations:\n",
      "0.945194268523746\n",
      "\n",
      " Best hyperparameters:\n",
      "{'algorithm': 'auto', 'n_neighbors': 7, 'weights': 'distance'}\n",
      "Fitting 5 folds for each of 18 candidates, totalling 90 fits\n",
      "GridSearchCV(cv=<generator object _BaseKFold.split at 0x0000012C45C2ACA8>,\n",
      "             estimator=KNeighborsClassifier(), n_jobs=4,\n",
      "             param_grid={'algorithm': ['auto', 'ball_tree', 'kd_tree'],\n",
      "                         'n_neighbors': [3, 5, 7],\n",
      "                         'weights': ['uniform', 'distance']},\n",
      "             scoring='roc_auc', verbose=3)\n",
      "\n",
      " Time taken: 0 hours 0 minutes and 26.22 seconds.\n",
      "Best estimator when 22 features are selected: \n",
      "KNeighborsClassifier(n_neighbors=7, weights='distance')\n",
      "\n",
      " The AUC of the best estimator for 5-fold search, where each iteration with 18 hyperparameter combinations:\n",
      "0.9439068458083077\n",
      "\n",
      " Best hyperparameters:\n",
      "{'algorithm': 'auto', 'n_neighbors': 7, 'weights': 'distance'}\n"
     ]
    }
   ],
   "source": [
    "from sklearn.neighbors import KNeighborsClassifier\n",
    "\n",
    "X_selected_list=[]\n",
    "\n",
    "for i in range(5,23): # number of features to be selected is adjustable\n",
    "    X_selected,X_selected_indica=feature_selection_q3(i,X_input,y_input)    \n",
    "    X_selected_list.append(X_selected_indica)\n",
    "    \n",
    "    neigh_q3 = KNeighborsClassifier()\n",
    "    params = {\n",
    "    'n_neighbors': [i for i in [3,5,7]],\n",
    "    'weights': ['uniform','distance'],\n",
    "    'algorithm':['auto', 'ball_tree', 'kd_tree']\n",
    "    }\n",
    "        \n",
    "    folds = 5\n",
    "\n",
    "    skf = KFold(n_splits=folds, shuffle = True, random_state = 1)\n",
    "\n",
    "    grid_search_q3_knn = GridSearchCV(neigh_q3, param_grid=params, scoring='roc_auc', n_jobs=4, cv=skf.split(X_selected,y_input), verbose=3)\n",
    "\n",
    "    # carry out grid search to find best hyperparametre combination for each feature selectio context\n",
    "    start_time = timer(None) # timing starts from this point for \"start_time\" variable\n",
    "    print(grid_search_q3_knn.fit(X_selected,y_input))\n",
    "    timer(start_time) # timing ends here for \"start_time\" variable\n",
    "\n",
    "    print('Best estimator when '+str(i)+' features are selected: ')\n",
    "    print(grid_search_q3_knn.best_estimator_)\n",
    "    print('\\n The AUC of the best estimator for 5-fold search, where each iteration with 18 hyperparameter combinations:')\n",
    "    print(grid_search_q3_knn.best_score_)\n",
    "    print('\\n Best hyperparameters:')\n",
    "    print(grid_search_q3_knn.best_params_)"
   ]
  },
  {
   "cell_type": "markdown",
   "metadata": {},
   "source": [
    "From the above results, it's easy to find that the best hyperparametre combination is {'algorithm': 'auto', 'n_neighbors': 7, 'weights': 'distance'} under 6 features selected "
   ]
  },
  {
   "cell_type": "code",
   "execution_count": 167,
   "metadata": {},
   "outputs": [
    {
     "name": "stdout",
     "output_type": "stream",
     "text": [
      "[False False  True False  True False False False False False False False\n",
      " False False False  True  True  True  True False False False]\n"
     ]
    }
   ],
   "source": [
    "print(X_selected_list[1]) # check out which 6 features are selected"
   ]
  },
  {
   "cell_type": "code",
   "execution_count": 169,
   "metadata": {},
   "outputs": [],
   "source": [
    "X_selected_best=X_input[[\"X3\",'X5','X16','X17','X18','X19']]\n",
    "test_X_q3=q3df_test[[\"X3\",'X5','X16','X17','X18','X19']]\n",
    "\n",
    "# predict the probability of Y under with the best selected model\n",
    "knn_clf=KNeighborsClassifier(n_neighbors=7, weights='distance')\n",
    "knn_clf.fit(X_selected_best,y_input)\n",
    "res_y_proba=knn_clf.predict_proba(test_X_q3) # predict probability\n"
   ]
  },
  {
   "cell_type": "code",
   "execution_count": 181,
   "metadata": {},
   "outputs": [
    {
     "name": "stdout",
     "output_type": "stream",
     "text": [
      "[0.         1.         0.27097284 ... 1.         1.         0.        ]\n"
     ]
    }
   ],
   "source": [
    "print(res_y_proba[:,1]) # extract the probability of Y=1 from the result "
   ]
  },
  {
   "cell_type": "code",
   "execution_count": 182,
   "metadata": {},
   "outputs": [
    {
     "name": "stderr",
     "output_type": "stream",
     "text": [
      "C:\\Users\\I544708\\AppData\\Local\\Continuum\\Anaconda3\\lib\\site-packages\\pandas\\compat\\_optional.py:106: UserWarning: Pandas requires version '0.9.8' or newer of 'xlsxwriter' (version '0.9.6' currently installed).\n",
      "  warnings.warn(msg, UserWarning)\n"
     ]
    }
   ],
   "source": [
    "final_result=pd.DataFrame(res_y_proba[:,1])\n",
    "final_result.to_excel('final_result.xlsx') # to excel"
   ]
  }
 ],
 "metadata": {
  "kernelspec": {
   "display_name": "Python 3",
   "language": "python",
   "name": "python3"
  },
  "language_info": {
   "codemirror_mode": {
    "name": "ipython",
    "version": 3
   },
   "file_extension": ".py",
   "mimetype": "text/x-python",
   "name": "python",
   "nbconvert_exporter": "python",
   "pygments_lexer": "ipython3",
   "version": "3.8.5"
  }
 },
 "nbformat": 4,
 "nbformat_minor": 2
}
